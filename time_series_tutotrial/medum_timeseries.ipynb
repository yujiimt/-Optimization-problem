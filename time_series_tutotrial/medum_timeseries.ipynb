{
  "nbformat": 4,
  "nbformat_minor": 0,
  "metadata": {
    "colab": {
      "name": "medum_timeseries.ipynb",
      "provenance": [],
      "authorship_tag": "ABX9TyNgJLG2wvMZ1B2pI80oqaJs",
      "include_colab_link": true
    },
    "kernelspec": {
      "name": "python3",
      "display_name": "Python 3"
    }
  },
  "cells": [
    {
      "cell_type": "markdown",
      "metadata": {
        "id": "view-in-github",
        "colab_type": "text"
      },
      "source": [
        "<a href=\"https://colab.research.google.com/github/yujiimt/-Optimization-problem/blob/master/time_series_tutotrial/medum_timeseries.ipynb\" target=\"_parent\"><img src=\"https://colab.research.google.com/assets/colab-badge.svg\" alt=\"Open In Colab\"/></a>"
      ]
    },
    {
      "cell_type": "code",
      "metadata": {
        "id": "YXEK3Zv3cvp8"
      },
      "source": [
        "import pandas as pd\n",
        "from datetime import datetime\n",
        "import numpy as np\n",
        "\n",
        "np.random.seed(1234)\n",
        "date_rng = pd.date_range(start='1/1/2018', end='1/08/2018', freq='H')"
      ],
      "execution_count": 10,
      "outputs": []
    },
    {
      "cell_type": "code",
      "metadata": {
        "id": "58xbPoHHMeoN",
        "outputId": "39d4e92c-eae4-4194-9c3a-08786ab526ca",
        "colab": {
          "base_uri": "https://localhost:8080/",
          "height": 359
        }
      },
      "source": [
        "df = pd.DataFrame(date_rng, columns=[\"date\"])\n",
        "df[\"data\"] = np.random.randint(0,100,size=(len(date_rng)))\n",
        "df.head(10)"
      ],
      "execution_count": 12,
      "outputs": [
        {
          "output_type": "execute_result",
          "data": {
            "text/html": [
              "<div>\n",
              "<style scoped>\n",
              "    .dataframe tbody tr th:only-of-type {\n",
              "        vertical-align: middle;\n",
              "    }\n",
              "\n",
              "    .dataframe tbody tr th {\n",
              "        vertical-align: top;\n",
              "    }\n",
              "\n",
              "    .dataframe thead th {\n",
              "        text-align: right;\n",
              "    }\n",
              "</style>\n",
              "<table border=\"1\" class=\"dataframe\">\n",
              "  <thead>\n",
              "    <tr style=\"text-align: right;\">\n",
              "      <th></th>\n",
              "      <th>date</th>\n",
              "      <th>data</th>\n",
              "    </tr>\n",
              "  </thead>\n",
              "  <tbody>\n",
              "    <tr>\n",
              "      <th>0</th>\n",
              "      <td>2018-01-01 00:00:00</td>\n",
              "      <td>47</td>\n",
              "    </tr>\n",
              "    <tr>\n",
              "      <th>1</th>\n",
              "      <td>2018-01-01 01:00:00</td>\n",
              "      <td>83</td>\n",
              "    </tr>\n",
              "    <tr>\n",
              "      <th>2</th>\n",
              "      <td>2018-01-01 02:00:00</td>\n",
              "      <td>38</td>\n",
              "    </tr>\n",
              "    <tr>\n",
              "      <th>3</th>\n",
              "      <td>2018-01-01 03:00:00</td>\n",
              "      <td>53</td>\n",
              "    </tr>\n",
              "    <tr>\n",
              "      <th>4</th>\n",
              "      <td>2018-01-01 04:00:00</td>\n",
              "      <td>76</td>\n",
              "    </tr>\n",
              "    <tr>\n",
              "      <th>5</th>\n",
              "      <td>2018-01-01 05:00:00</td>\n",
              "      <td>24</td>\n",
              "    </tr>\n",
              "    <tr>\n",
              "      <th>6</th>\n",
              "      <td>2018-01-01 06:00:00</td>\n",
              "      <td>15</td>\n",
              "    </tr>\n",
              "    <tr>\n",
              "      <th>7</th>\n",
              "      <td>2018-01-01 07:00:00</td>\n",
              "      <td>49</td>\n",
              "    </tr>\n",
              "    <tr>\n",
              "      <th>8</th>\n",
              "      <td>2018-01-01 08:00:00</td>\n",
              "      <td>23</td>\n",
              "    </tr>\n",
              "    <tr>\n",
              "      <th>9</th>\n",
              "      <td>2018-01-01 09:00:00</td>\n",
              "      <td>26</td>\n",
              "    </tr>\n",
              "  </tbody>\n",
              "</table>\n",
              "</div>"
            ],
            "text/plain": [
              "                 date  data\n",
              "0 2018-01-01 00:00:00    47\n",
              "1 2018-01-01 01:00:00    83\n",
              "2 2018-01-01 02:00:00    38\n",
              "3 2018-01-01 03:00:00    53\n",
              "4 2018-01-01 04:00:00    76\n",
              "5 2018-01-01 05:00:00    24\n",
              "6 2018-01-01 06:00:00    15\n",
              "7 2018-01-01 07:00:00    49\n",
              "8 2018-01-01 08:00:00    23\n",
              "9 2018-01-01 09:00:00    26"
            ]
          },
          "metadata": {
            "tags": []
          },
          "execution_count": 12
        }
      ]
    },
    {
      "cell_type": "code",
      "metadata": {
        "id": "QsZGZKqeM4B7",
        "outputId": "bc545edb-8fd5-453d-e14f-b85905845b49",
        "colab": {
          "base_uri": "https://localhost:8080/",
          "height": 235
        }
      },
      "source": [
        "df[\"datetime\"] = pd.to_datetime(df[\"date\"])\n",
        "df = df.set_index(\"datetime\")\n",
        "df.drop([\"date\"], axis=1, inplace=True)\n",
        "df.head()"
      ],
      "execution_count": 13,
      "outputs": [
        {
          "output_type": "execute_result",
          "data": {
            "text/html": [
              "<div>\n",
              "<style scoped>\n",
              "    .dataframe tbody tr th:only-of-type {\n",
              "        vertical-align: middle;\n",
              "    }\n",
              "\n",
              "    .dataframe tbody tr th {\n",
              "        vertical-align: top;\n",
              "    }\n",
              "\n",
              "    .dataframe thead th {\n",
              "        text-align: right;\n",
              "    }\n",
              "</style>\n",
              "<table border=\"1\" class=\"dataframe\">\n",
              "  <thead>\n",
              "    <tr style=\"text-align: right;\">\n",
              "      <th></th>\n",
              "      <th>data</th>\n",
              "    </tr>\n",
              "    <tr>\n",
              "      <th>datetime</th>\n",
              "      <th></th>\n",
              "    </tr>\n",
              "  </thead>\n",
              "  <tbody>\n",
              "    <tr>\n",
              "      <th>2018-01-01 00:00:00</th>\n",
              "      <td>47</td>\n",
              "    </tr>\n",
              "    <tr>\n",
              "      <th>2018-01-01 01:00:00</th>\n",
              "      <td>83</td>\n",
              "    </tr>\n",
              "    <tr>\n",
              "      <th>2018-01-01 02:00:00</th>\n",
              "      <td>38</td>\n",
              "    </tr>\n",
              "    <tr>\n",
              "      <th>2018-01-01 03:00:00</th>\n",
              "      <td>53</td>\n",
              "    </tr>\n",
              "    <tr>\n",
              "      <th>2018-01-01 04:00:00</th>\n",
              "      <td>76</td>\n",
              "    </tr>\n",
              "  </tbody>\n",
              "</table>\n",
              "</div>"
            ],
            "text/plain": [
              "                     data\n",
              "datetime                 \n",
              "2018-01-01 00:00:00    47\n",
              "2018-01-01 01:00:00    83\n",
              "2018-01-01 02:00:00    38\n",
              "2018-01-01 03:00:00    53\n",
              "2018-01-01 04:00:00    76"
            ]
          },
          "metadata": {
            "tags": []
          },
          "execution_count": 13
        }
      ]
    },
    {
      "cell_type": "code",
      "metadata": {
        "id": "rJXKjSo1N4Rm",
        "outputId": "0cffddef-1e73-40ff-cf3d-00192e60be84",
        "colab": {
          "base_uri": "https://localhost:8080/",
          "height": 1000
        }
      },
      "source": [
        "string_date_rng = [str(x) for x in date_rng]\n",
        "string_date_rng"
      ],
      "execution_count": 14,
      "outputs": [
        {
          "output_type": "execute_result",
          "data": {
            "text/plain": [
              "['2018-01-01 00:00:00',\n",
              " '2018-01-01 01:00:00',\n",
              " '2018-01-01 02:00:00',\n",
              " '2018-01-01 03:00:00',\n",
              " '2018-01-01 04:00:00',\n",
              " '2018-01-01 05:00:00',\n",
              " '2018-01-01 06:00:00',\n",
              " '2018-01-01 07:00:00',\n",
              " '2018-01-01 08:00:00',\n",
              " '2018-01-01 09:00:00',\n",
              " '2018-01-01 10:00:00',\n",
              " '2018-01-01 11:00:00',\n",
              " '2018-01-01 12:00:00',\n",
              " '2018-01-01 13:00:00',\n",
              " '2018-01-01 14:00:00',\n",
              " '2018-01-01 15:00:00',\n",
              " '2018-01-01 16:00:00',\n",
              " '2018-01-01 17:00:00',\n",
              " '2018-01-01 18:00:00',\n",
              " '2018-01-01 19:00:00',\n",
              " '2018-01-01 20:00:00',\n",
              " '2018-01-01 21:00:00',\n",
              " '2018-01-01 22:00:00',\n",
              " '2018-01-01 23:00:00',\n",
              " '2018-01-02 00:00:00',\n",
              " '2018-01-02 01:00:00',\n",
              " '2018-01-02 02:00:00',\n",
              " '2018-01-02 03:00:00',\n",
              " '2018-01-02 04:00:00',\n",
              " '2018-01-02 05:00:00',\n",
              " '2018-01-02 06:00:00',\n",
              " '2018-01-02 07:00:00',\n",
              " '2018-01-02 08:00:00',\n",
              " '2018-01-02 09:00:00',\n",
              " '2018-01-02 10:00:00',\n",
              " '2018-01-02 11:00:00',\n",
              " '2018-01-02 12:00:00',\n",
              " '2018-01-02 13:00:00',\n",
              " '2018-01-02 14:00:00',\n",
              " '2018-01-02 15:00:00',\n",
              " '2018-01-02 16:00:00',\n",
              " '2018-01-02 17:00:00',\n",
              " '2018-01-02 18:00:00',\n",
              " '2018-01-02 19:00:00',\n",
              " '2018-01-02 20:00:00',\n",
              " '2018-01-02 21:00:00',\n",
              " '2018-01-02 22:00:00',\n",
              " '2018-01-02 23:00:00',\n",
              " '2018-01-03 00:00:00',\n",
              " '2018-01-03 01:00:00',\n",
              " '2018-01-03 02:00:00',\n",
              " '2018-01-03 03:00:00',\n",
              " '2018-01-03 04:00:00',\n",
              " '2018-01-03 05:00:00',\n",
              " '2018-01-03 06:00:00',\n",
              " '2018-01-03 07:00:00',\n",
              " '2018-01-03 08:00:00',\n",
              " '2018-01-03 09:00:00',\n",
              " '2018-01-03 10:00:00',\n",
              " '2018-01-03 11:00:00',\n",
              " '2018-01-03 12:00:00',\n",
              " '2018-01-03 13:00:00',\n",
              " '2018-01-03 14:00:00',\n",
              " '2018-01-03 15:00:00',\n",
              " '2018-01-03 16:00:00',\n",
              " '2018-01-03 17:00:00',\n",
              " '2018-01-03 18:00:00',\n",
              " '2018-01-03 19:00:00',\n",
              " '2018-01-03 20:00:00',\n",
              " '2018-01-03 21:00:00',\n",
              " '2018-01-03 22:00:00',\n",
              " '2018-01-03 23:00:00',\n",
              " '2018-01-04 00:00:00',\n",
              " '2018-01-04 01:00:00',\n",
              " '2018-01-04 02:00:00',\n",
              " '2018-01-04 03:00:00',\n",
              " '2018-01-04 04:00:00',\n",
              " '2018-01-04 05:00:00',\n",
              " '2018-01-04 06:00:00',\n",
              " '2018-01-04 07:00:00',\n",
              " '2018-01-04 08:00:00',\n",
              " '2018-01-04 09:00:00',\n",
              " '2018-01-04 10:00:00',\n",
              " '2018-01-04 11:00:00',\n",
              " '2018-01-04 12:00:00',\n",
              " '2018-01-04 13:00:00',\n",
              " '2018-01-04 14:00:00',\n",
              " '2018-01-04 15:00:00',\n",
              " '2018-01-04 16:00:00',\n",
              " '2018-01-04 17:00:00',\n",
              " '2018-01-04 18:00:00',\n",
              " '2018-01-04 19:00:00',\n",
              " '2018-01-04 20:00:00',\n",
              " '2018-01-04 21:00:00',\n",
              " '2018-01-04 22:00:00',\n",
              " '2018-01-04 23:00:00',\n",
              " '2018-01-05 00:00:00',\n",
              " '2018-01-05 01:00:00',\n",
              " '2018-01-05 02:00:00',\n",
              " '2018-01-05 03:00:00',\n",
              " '2018-01-05 04:00:00',\n",
              " '2018-01-05 05:00:00',\n",
              " '2018-01-05 06:00:00',\n",
              " '2018-01-05 07:00:00',\n",
              " '2018-01-05 08:00:00',\n",
              " '2018-01-05 09:00:00',\n",
              " '2018-01-05 10:00:00',\n",
              " '2018-01-05 11:00:00',\n",
              " '2018-01-05 12:00:00',\n",
              " '2018-01-05 13:00:00',\n",
              " '2018-01-05 14:00:00',\n",
              " '2018-01-05 15:00:00',\n",
              " '2018-01-05 16:00:00',\n",
              " '2018-01-05 17:00:00',\n",
              " '2018-01-05 18:00:00',\n",
              " '2018-01-05 19:00:00',\n",
              " '2018-01-05 20:00:00',\n",
              " '2018-01-05 21:00:00',\n",
              " '2018-01-05 22:00:00',\n",
              " '2018-01-05 23:00:00',\n",
              " '2018-01-06 00:00:00',\n",
              " '2018-01-06 01:00:00',\n",
              " '2018-01-06 02:00:00',\n",
              " '2018-01-06 03:00:00',\n",
              " '2018-01-06 04:00:00',\n",
              " '2018-01-06 05:00:00',\n",
              " '2018-01-06 06:00:00',\n",
              " '2018-01-06 07:00:00',\n",
              " '2018-01-06 08:00:00',\n",
              " '2018-01-06 09:00:00',\n",
              " '2018-01-06 10:00:00',\n",
              " '2018-01-06 11:00:00',\n",
              " '2018-01-06 12:00:00',\n",
              " '2018-01-06 13:00:00',\n",
              " '2018-01-06 14:00:00',\n",
              " '2018-01-06 15:00:00',\n",
              " '2018-01-06 16:00:00',\n",
              " '2018-01-06 17:00:00',\n",
              " '2018-01-06 18:00:00',\n",
              " '2018-01-06 19:00:00',\n",
              " '2018-01-06 20:00:00',\n",
              " '2018-01-06 21:00:00',\n",
              " '2018-01-06 22:00:00',\n",
              " '2018-01-06 23:00:00',\n",
              " '2018-01-07 00:00:00',\n",
              " '2018-01-07 01:00:00',\n",
              " '2018-01-07 02:00:00',\n",
              " '2018-01-07 03:00:00',\n",
              " '2018-01-07 04:00:00',\n",
              " '2018-01-07 05:00:00',\n",
              " '2018-01-07 06:00:00',\n",
              " '2018-01-07 07:00:00',\n",
              " '2018-01-07 08:00:00',\n",
              " '2018-01-07 09:00:00',\n",
              " '2018-01-07 10:00:00',\n",
              " '2018-01-07 11:00:00',\n",
              " '2018-01-07 12:00:00',\n",
              " '2018-01-07 13:00:00',\n",
              " '2018-01-07 14:00:00',\n",
              " '2018-01-07 15:00:00',\n",
              " '2018-01-07 16:00:00',\n",
              " '2018-01-07 17:00:00',\n",
              " '2018-01-07 18:00:00',\n",
              " '2018-01-07 19:00:00',\n",
              " '2018-01-07 20:00:00',\n",
              " '2018-01-07 21:00:00',\n",
              " '2018-01-07 22:00:00',\n",
              " '2018-01-07 23:00:00',\n",
              " '2018-01-08 00:00:00']"
            ]
          },
          "metadata": {
            "tags": []
          },
          "execution_count": 14
        }
      ]
    },
    {
      "cell_type": "code",
      "metadata": {
        "id": "I7raoCJMOL_l",
        "outputId": "f5bb3f32-e5b5-47f0-c723-d87e009eef17",
        "colab": {
          "base_uri": "https://localhost:8080/",
          "height": 221
        }
      },
      "source": [
        "timestamp_date_rng = pd.to_datetime(string_date_rng, infer_datetime_format=True)\n",
        "timestamp_date_rng"
      ],
      "execution_count": 15,
      "outputs": [
        {
          "output_type": "execute_result",
          "data": {
            "text/plain": [
              "DatetimeIndex(['2018-01-01 00:00:00', '2018-01-01 01:00:00',\n",
              "               '2018-01-01 02:00:00', '2018-01-01 03:00:00',\n",
              "               '2018-01-01 04:00:00', '2018-01-01 05:00:00',\n",
              "               '2018-01-01 06:00:00', '2018-01-01 07:00:00',\n",
              "               '2018-01-01 08:00:00', '2018-01-01 09:00:00',\n",
              "               ...\n",
              "               '2018-01-07 15:00:00', '2018-01-07 16:00:00',\n",
              "               '2018-01-07 17:00:00', '2018-01-07 18:00:00',\n",
              "               '2018-01-07 19:00:00', '2018-01-07 20:00:00',\n",
              "               '2018-01-07 21:00:00', '2018-01-07 22:00:00',\n",
              "               '2018-01-07 23:00:00', '2018-01-08 00:00:00'],\n",
              "              dtype='datetime64[ns]', length=169, freq=None)"
            ]
          },
          "metadata": {
            "tags": []
          },
          "execution_count": 15
        }
      ]
    },
    {
      "cell_type": "code",
      "metadata": {
        "id": "dtOHtM7DOwBj",
        "outputId": "4ba54167-c0e8-4115-f2b1-c31e2006bf30",
        "colab": {
          "base_uri": "https://localhost:8080/",
          "height": 68
        }
      },
      "source": [
        "string_date_rng_2 = [\"June-01-2018\",\"June-02-2018\",\"June-03-2018\"]\n",
        "timestamp_date_rng_2 = [datetime.strptime(x, '%B-%d-%Y') for x in string_date_rng_2]\n",
        "timestamp_date_rng_2"
      ],
      "execution_count": 16,
      "outputs": [
        {
          "output_type": "execute_result",
          "data": {
            "text/plain": [
              "[datetime.datetime(2018, 6, 1, 0, 0),\n",
              " datetime.datetime(2018, 6, 2, 0, 0),\n",
              " datetime.datetime(2018, 6, 3, 0, 0)]"
            ]
          },
          "metadata": {
            "tags": []
          },
          "execution_count": 16
        }
      ]
    },
    {
      "cell_type": "code",
      "metadata": {
        "id": "G8Ujbjs7PZUx",
        "outputId": "24bd5515-583f-4dc7-8a52-ffeba57ff768",
        "colab": {
          "base_uri": "https://localhost:8080/",
          "height": 142
        }
      },
      "source": [
        "df2 = pd.DataFrame(timestamp_date_rng_2, columns=[\"date\"])\n",
        "df2"
      ],
      "execution_count": 17,
      "outputs": [
        {
          "output_type": "execute_result",
          "data": {
            "text/html": [
              "<div>\n",
              "<style scoped>\n",
              "    .dataframe tbody tr th:only-of-type {\n",
              "        vertical-align: middle;\n",
              "    }\n",
              "\n",
              "    .dataframe tbody tr th {\n",
              "        vertical-align: top;\n",
              "    }\n",
              "\n",
              "    .dataframe thead th {\n",
              "        text-align: right;\n",
              "    }\n",
              "</style>\n",
              "<table border=\"1\" class=\"dataframe\">\n",
              "  <thead>\n",
              "    <tr style=\"text-align: right;\">\n",
              "      <th></th>\n",
              "      <th>date</th>\n",
              "    </tr>\n",
              "  </thead>\n",
              "  <tbody>\n",
              "    <tr>\n",
              "      <th>0</th>\n",
              "      <td>2018-06-01</td>\n",
              "    </tr>\n",
              "    <tr>\n",
              "      <th>1</th>\n",
              "      <td>2018-06-02</td>\n",
              "    </tr>\n",
              "    <tr>\n",
              "      <th>2</th>\n",
              "      <td>2018-06-03</td>\n",
              "    </tr>\n",
              "  </tbody>\n",
              "</table>\n",
              "</div>"
            ],
            "text/plain": [
              "        date\n",
              "0 2018-06-01\n",
              "1 2018-06-02\n",
              "2 2018-06-03"
            ]
          },
          "metadata": {
            "tags": []
          },
          "execution_count": 17
        }
      ]
    },
    {
      "cell_type": "code",
      "metadata": {
        "id": "PtlGyUoNPifq",
        "outputId": "edfbc00a-7a30-4f84-810e-2cd7aef56209",
        "colab": {
          "base_uri": "https://localhost:8080/",
          "height": 824
        }
      },
      "source": [
        "df[df.index.day == 2]"
      ],
      "execution_count": 18,
      "outputs": [
        {
          "output_type": "execute_result",
          "data": {
            "text/html": [
              "<div>\n",
              "<style scoped>\n",
              "    .dataframe tbody tr th:only-of-type {\n",
              "        vertical-align: middle;\n",
              "    }\n",
              "\n",
              "    .dataframe tbody tr th {\n",
              "        vertical-align: top;\n",
              "    }\n",
              "\n",
              "    .dataframe thead th {\n",
              "        text-align: right;\n",
              "    }\n",
              "</style>\n",
              "<table border=\"1\" class=\"dataframe\">\n",
              "  <thead>\n",
              "    <tr style=\"text-align: right;\">\n",
              "      <th></th>\n",
              "      <th>data</th>\n",
              "    </tr>\n",
              "    <tr>\n",
              "      <th>datetime</th>\n",
              "      <th></th>\n",
              "    </tr>\n",
              "  </thead>\n",
              "  <tbody>\n",
              "    <tr>\n",
              "      <th>2018-01-02 00:00:00</th>\n",
              "      <td>38</td>\n",
              "    </tr>\n",
              "    <tr>\n",
              "      <th>2018-01-02 01:00:00</th>\n",
              "      <td>67</td>\n",
              "    </tr>\n",
              "    <tr>\n",
              "      <th>2018-01-02 02:00:00</th>\n",
              "      <td>11</td>\n",
              "    </tr>\n",
              "    <tr>\n",
              "      <th>2018-01-02 03:00:00</th>\n",
              "      <td>0</td>\n",
              "    </tr>\n",
              "    <tr>\n",
              "      <th>2018-01-02 04:00:00</th>\n",
              "      <td>75</td>\n",
              "    </tr>\n",
              "    <tr>\n",
              "      <th>2018-01-02 05:00:00</th>\n",
              "      <td>80</td>\n",
              "    </tr>\n",
              "    <tr>\n",
              "      <th>2018-01-02 06:00:00</th>\n",
              "      <td>3</td>\n",
              "    </tr>\n",
              "    <tr>\n",
              "      <th>2018-01-02 07:00:00</th>\n",
              "      <td>2</td>\n",
              "    </tr>\n",
              "    <tr>\n",
              "      <th>2018-01-02 08:00:00</th>\n",
              "      <td>19</td>\n",
              "    </tr>\n",
              "    <tr>\n",
              "      <th>2018-01-02 09:00:00</th>\n",
              "      <td>12</td>\n",
              "    </tr>\n",
              "    <tr>\n",
              "      <th>2018-01-02 10:00:00</th>\n",
              "      <td>65</td>\n",
              "    </tr>\n",
              "    <tr>\n",
              "      <th>2018-01-02 11:00:00</th>\n",
              "      <td>75</td>\n",
              "    </tr>\n",
              "    <tr>\n",
              "      <th>2018-01-02 12:00:00</th>\n",
              "      <td>81</td>\n",
              "    </tr>\n",
              "    <tr>\n",
              "      <th>2018-01-02 13:00:00</th>\n",
              "      <td>14</td>\n",
              "    </tr>\n",
              "    <tr>\n",
              "      <th>2018-01-02 14:00:00</th>\n",
              "      <td>71</td>\n",
              "    </tr>\n",
              "    <tr>\n",
              "      <th>2018-01-02 15:00:00</th>\n",
              "      <td>60</td>\n",
              "    </tr>\n",
              "    <tr>\n",
              "      <th>2018-01-02 16:00:00</th>\n",
              "      <td>46</td>\n",
              "    </tr>\n",
              "    <tr>\n",
              "      <th>2018-01-02 17:00:00</th>\n",
              "      <td>28</td>\n",
              "    </tr>\n",
              "    <tr>\n",
              "      <th>2018-01-02 18:00:00</th>\n",
              "      <td>81</td>\n",
              "    </tr>\n",
              "    <tr>\n",
              "      <th>2018-01-02 19:00:00</th>\n",
              "      <td>87</td>\n",
              "    </tr>\n",
              "    <tr>\n",
              "      <th>2018-01-02 20:00:00</th>\n",
              "      <td>13</td>\n",
              "    </tr>\n",
              "    <tr>\n",
              "      <th>2018-01-02 21:00:00</th>\n",
              "      <td>96</td>\n",
              "    </tr>\n",
              "    <tr>\n",
              "      <th>2018-01-02 22:00:00</th>\n",
              "      <td>12</td>\n",
              "    </tr>\n",
              "    <tr>\n",
              "      <th>2018-01-02 23:00:00</th>\n",
              "      <td>69</td>\n",
              "    </tr>\n",
              "  </tbody>\n",
              "</table>\n",
              "</div>"
            ],
            "text/plain": [
              "                     data\n",
              "datetime                 \n",
              "2018-01-02 00:00:00    38\n",
              "2018-01-02 01:00:00    67\n",
              "2018-01-02 02:00:00    11\n",
              "2018-01-02 03:00:00     0\n",
              "2018-01-02 04:00:00    75\n",
              "2018-01-02 05:00:00    80\n",
              "2018-01-02 06:00:00     3\n",
              "2018-01-02 07:00:00     2\n",
              "2018-01-02 08:00:00    19\n",
              "2018-01-02 09:00:00    12\n",
              "2018-01-02 10:00:00    65\n",
              "2018-01-02 11:00:00    75\n",
              "2018-01-02 12:00:00    81\n",
              "2018-01-02 13:00:00    14\n",
              "2018-01-02 14:00:00    71\n",
              "2018-01-02 15:00:00    60\n",
              "2018-01-02 16:00:00    46\n",
              "2018-01-02 17:00:00    28\n",
              "2018-01-02 18:00:00    81\n",
              "2018-01-02 19:00:00    87\n",
              "2018-01-02 20:00:00    13\n",
              "2018-01-02 21:00:00    96\n",
              "2018-01-02 22:00:00    12\n",
              "2018-01-02 23:00:00    69"
            ]
          },
          "metadata": {
            "tags": []
          },
          "execution_count": 18
        }
      ]
    },
    {
      "cell_type": "code",
      "metadata": {
        "id": "pGrLNVvDPrrt",
        "outputId": "e7d00eba-4477-45b1-a63f-0fee0ba36549",
        "colab": {
          "base_uri": "https://localhost:8080/",
          "height": 824
        }
      },
      "source": [
        "df['2018-01-03']"
      ],
      "execution_count": 19,
      "outputs": [
        {
          "output_type": "execute_result",
          "data": {
            "text/html": [
              "<div>\n",
              "<style scoped>\n",
              "    .dataframe tbody tr th:only-of-type {\n",
              "        vertical-align: middle;\n",
              "    }\n",
              "\n",
              "    .dataframe tbody tr th {\n",
              "        vertical-align: top;\n",
              "    }\n",
              "\n",
              "    .dataframe thead th {\n",
              "        text-align: right;\n",
              "    }\n",
              "</style>\n",
              "<table border=\"1\" class=\"dataframe\">\n",
              "  <thead>\n",
              "    <tr style=\"text-align: right;\">\n",
              "      <th></th>\n",
              "      <th>data</th>\n",
              "    </tr>\n",
              "    <tr>\n",
              "      <th>datetime</th>\n",
              "      <th></th>\n",
              "    </tr>\n",
              "  </thead>\n",
              "  <tbody>\n",
              "    <tr>\n",
              "      <th>2018-01-03 00:00:00</th>\n",
              "      <td>95</td>\n",
              "    </tr>\n",
              "    <tr>\n",
              "      <th>2018-01-03 01:00:00</th>\n",
              "      <td>31</td>\n",
              "    </tr>\n",
              "    <tr>\n",
              "      <th>2018-01-03 02:00:00</th>\n",
              "      <td>89</td>\n",
              "    </tr>\n",
              "    <tr>\n",
              "      <th>2018-01-03 03:00:00</th>\n",
              "      <td>84</td>\n",
              "    </tr>\n",
              "    <tr>\n",
              "      <th>2018-01-03 04:00:00</th>\n",
              "      <td>45</td>\n",
              "    </tr>\n",
              "    <tr>\n",
              "      <th>2018-01-03 05:00:00</th>\n",
              "      <td>16</td>\n",
              "    </tr>\n",
              "    <tr>\n",
              "      <th>2018-01-03 06:00:00</th>\n",
              "      <td>41</td>\n",
              "    </tr>\n",
              "    <tr>\n",
              "      <th>2018-01-03 07:00:00</th>\n",
              "      <td>72</td>\n",
              "    </tr>\n",
              "    <tr>\n",
              "      <th>2018-01-03 08:00:00</th>\n",
              "      <td>56</td>\n",
              "    </tr>\n",
              "    <tr>\n",
              "      <th>2018-01-03 09:00:00</th>\n",
              "      <td>70</td>\n",
              "    </tr>\n",
              "    <tr>\n",
              "      <th>2018-01-03 10:00:00</th>\n",
              "      <td>56</td>\n",
              "    </tr>\n",
              "    <tr>\n",
              "      <th>2018-01-03 11:00:00</th>\n",
              "      <td>86</td>\n",
              "    </tr>\n",
              "    <tr>\n",
              "      <th>2018-01-03 12:00:00</th>\n",
              "      <td>44</td>\n",
              "    </tr>\n",
              "    <tr>\n",
              "      <th>2018-01-03 13:00:00</th>\n",
              "      <td>90</td>\n",
              "    </tr>\n",
              "    <tr>\n",
              "      <th>2018-01-03 14:00:00</th>\n",
              "      <td>83</td>\n",
              "    </tr>\n",
              "    <tr>\n",
              "      <th>2018-01-03 15:00:00</th>\n",
              "      <td>47</td>\n",
              "    </tr>\n",
              "    <tr>\n",
              "      <th>2018-01-03 16:00:00</th>\n",
              "      <td>49</td>\n",
              "    </tr>\n",
              "    <tr>\n",
              "      <th>2018-01-03 17:00:00</th>\n",
              "      <td>18</td>\n",
              "    </tr>\n",
              "    <tr>\n",
              "      <th>2018-01-03 18:00:00</th>\n",
              "      <td>85</td>\n",
              "    </tr>\n",
              "    <tr>\n",
              "      <th>2018-01-03 19:00:00</th>\n",
              "      <td>46</td>\n",
              "    </tr>\n",
              "    <tr>\n",
              "      <th>2018-01-03 20:00:00</th>\n",
              "      <td>98</td>\n",
              "    </tr>\n",
              "    <tr>\n",
              "      <th>2018-01-03 21:00:00</th>\n",
              "      <td>37</td>\n",
              "    </tr>\n",
              "    <tr>\n",
              "      <th>2018-01-03 22:00:00</th>\n",
              "      <td>38</td>\n",
              "    </tr>\n",
              "    <tr>\n",
              "      <th>2018-01-03 23:00:00</th>\n",
              "      <td>7</td>\n",
              "    </tr>\n",
              "  </tbody>\n",
              "</table>\n",
              "</div>"
            ],
            "text/plain": [
              "                     data\n",
              "datetime                 \n",
              "2018-01-03 00:00:00    95\n",
              "2018-01-03 01:00:00    31\n",
              "2018-01-03 02:00:00    89\n",
              "2018-01-03 03:00:00    84\n",
              "2018-01-03 04:00:00    45\n",
              "2018-01-03 05:00:00    16\n",
              "2018-01-03 06:00:00    41\n",
              "2018-01-03 07:00:00    72\n",
              "2018-01-03 08:00:00    56\n",
              "2018-01-03 09:00:00    70\n",
              "2018-01-03 10:00:00    56\n",
              "2018-01-03 11:00:00    86\n",
              "2018-01-03 12:00:00    44\n",
              "2018-01-03 13:00:00    90\n",
              "2018-01-03 14:00:00    83\n",
              "2018-01-03 15:00:00    47\n",
              "2018-01-03 16:00:00    49\n",
              "2018-01-03 17:00:00    18\n",
              "2018-01-03 18:00:00    85\n",
              "2018-01-03 19:00:00    46\n",
              "2018-01-03 20:00:00    98\n",
              "2018-01-03 21:00:00    37\n",
              "2018-01-03 22:00:00    38\n",
              "2018-01-03 23:00:00     7"
            ]
          },
          "metadata": {
            "tags": []
          },
          "execution_count": 19
        }
      ]
    },
    {
      "cell_type": "code",
      "metadata": {
        "id": "3XSBFpxBPzDB",
        "outputId": "f9cb5957-e336-4dad-b61d-ca46cb2a22f6",
        "colab": {
          "base_uri": "https://localhost:8080/",
          "height": 450
        }
      },
      "source": [
        "df[\"2018-01-04\":\"2018-01-06\"]"
      ],
      "execution_count": 20,
      "outputs": [
        {
          "output_type": "execute_result",
          "data": {
            "text/html": [
              "<div>\n",
              "<style scoped>\n",
              "    .dataframe tbody tr th:only-of-type {\n",
              "        vertical-align: middle;\n",
              "    }\n",
              "\n",
              "    .dataframe tbody tr th {\n",
              "        vertical-align: top;\n",
              "    }\n",
              "\n",
              "    .dataframe thead th {\n",
              "        text-align: right;\n",
              "    }\n",
              "</style>\n",
              "<table border=\"1\" class=\"dataframe\">\n",
              "  <thead>\n",
              "    <tr style=\"text-align: right;\">\n",
              "      <th></th>\n",
              "      <th>data</th>\n",
              "    </tr>\n",
              "    <tr>\n",
              "      <th>datetime</th>\n",
              "      <th></th>\n",
              "    </tr>\n",
              "  </thead>\n",
              "  <tbody>\n",
              "    <tr>\n",
              "      <th>2018-01-04 00:00:00</th>\n",
              "      <td>67</td>\n",
              "    </tr>\n",
              "    <tr>\n",
              "      <th>2018-01-04 01:00:00</th>\n",
              "      <td>5</td>\n",
              "    </tr>\n",
              "    <tr>\n",
              "      <th>2018-01-04 02:00:00</th>\n",
              "      <td>47</td>\n",
              "    </tr>\n",
              "    <tr>\n",
              "      <th>2018-01-04 03:00:00</th>\n",
              "      <td>47</td>\n",
              "    </tr>\n",
              "    <tr>\n",
              "      <th>2018-01-04 04:00:00</th>\n",
              "      <td>15</td>\n",
              "    </tr>\n",
              "    <tr>\n",
              "      <th>...</th>\n",
              "      <td>...</td>\n",
              "    </tr>\n",
              "    <tr>\n",
              "      <th>2018-01-06 19:00:00</th>\n",
              "      <td>18</td>\n",
              "    </tr>\n",
              "    <tr>\n",
              "      <th>2018-01-06 20:00:00</th>\n",
              "      <td>76</td>\n",
              "    </tr>\n",
              "    <tr>\n",
              "      <th>2018-01-06 21:00:00</th>\n",
              "      <td>69</td>\n",
              "    </tr>\n",
              "    <tr>\n",
              "      <th>2018-01-06 22:00:00</th>\n",
              "      <td>81</td>\n",
              "    </tr>\n",
              "    <tr>\n",
              "      <th>2018-01-06 23:00:00</th>\n",
              "      <td>80</td>\n",
              "    </tr>\n",
              "  </tbody>\n",
              "</table>\n",
              "<p>72 rows × 1 columns</p>\n",
              "</div>"
            ],
            "text/plain": [
              "                     data\n",
              "datetime                 \n",
              "2018-01-04 00:00:00    67\n",
              "2018-01-04 01:00:00     5\n",
              "2018-01-04 02:00:00    47\n",
              "2018-01-04 03:00:00    47\n",
              "2018-01-04 04:00:00    15\n",
              "...                   ...\n",
              "2018-01-06 19:00:00    18\n",
              "2018-01-06 20:00:00    76\n",
              "2018-01-06 21:00:00    69\n",
              "2018-01-06 22:00:00    81\n",
              "2018-01-06 23:00:00    80\n",
              "\n",
              "[72 rows x 1 columns]"
            ]
          },
          "metadata": {
            "tags": []
          },
          "execution_count": 20
        }
      ]
    },
    {
      "cell_type": "code",
      "metadata": {
        "id": "wrT4d4TmP7bh",
        "outputId": "647be768-1732-4044-cac5-a7060763d661",
        "colab": {
          "base_uri": "https://localhost:8080/",
          "height": 328
        }
      },
      "source": [
        "df.resample(\"D\").mean()"
      ],
      "execution_count": 21,
      "outputs": [
        {
          "output_type": "execute_result",
          "data": {
            "text/html": [
              "<div>\n",
              "<style scoped>\n",
              "    .dataframe tbody tr th:only-of-type {\n",
              "        vertical-align: middle;\n",
              "    }\n",
              "\n",
              "    .dataframe tbody tr th {\n",
              "        vertical-align: top;\n",
              "    }\n",
              "\n",
              "    .dataframe thead th {\n",
              "        text-align: right;\n",
              "    }\n",
              "</style>\n",
              "<table border=\"1\" class=\"dataframe\">\n",
              "  <thead>\n",
              "    <tr style=\"text-align: right;\">\n",
              "      <th></th>\n",
              "      <th>data</th>\n",
              "    </tr>\n",
              "    <tr>\n",
              "      <th>datetime</th>\n",
              "      <th></th>\n",
              "    </tr>\n",
              "  </thead>\n",
              "  <tbody>\n",
              "    <tr>\n",
              "      <th>2018-01-01</th>\n",
              "      <td>49.125000</td>\n",
              "    </tr>\n",
              "    <tr>\n",
              "      <th>2018-01-02</th>\n",
              "      <td>46.041667</td>\n",
              "    </tr>\n",
              "    <tr>\n",
              "      <th>2018-01-03</th>\n",
              "      <td>57.625000</td>\n",
              "    </tr>\n",
              "    <tr>\n",
              "      <th>2018-01-04</th>\n",
              "      <td>47.833333</td>\n",
              "    </tr>\n",
              "    <tr>\n",
              "      <th>2018-01-05</th>\n",
              "      <td>47.041667</td>\n",
              "    </tr>\n",
              "    <tr>\n",
              "      <th>2018-01-06</th>\n",
              "      <td>51.666667</td>\n",
              "    </tr>\n",
              "    <tr>\n",
              "      <th>2018-01-07</th>\n",
              "      <td>49.083333</td>\n",
              "    </tr>\n",
              "    <tr>\n",
              "      <th>2018-01-08</th>\n",
              "      <td>17.000000</td>\n",
              "    </tr>\n",
              "  </tbody>\n",
              "</table>\n",
              "</div>"
            ],
            "text/plain": [
              "                 data\n",
              "datetime             \n",
              "2018-01-01  49.125000\n",
              "2018-01-02  46.041667\n",
              "2018-01-03  57.625000\n",
              "2018-01-04  47.833333\n",
              "2018-01-05  47.041667\n",
              "2018-01-06  51.666667\n",
              "2018-01-07  49.083333\n",
              "2018-01-08  17.000000"
            ]
          },
          "metadata": {
            "tags": []
          },
          "execution_count": 21
        }
      ]
    },
    {
      "cell_type": "code",
      "metadata": {
        "id": "9bOW65DzQUAj",
        "outputId": "8f187575-8ea0-4f78-8c06-9ab0abdad77d",
        "colab": {
          "base_uri": "https://localhost:8080/",
          "height": 390
        }
      },
      "source": [
        "df[\"rolling_sum\"] = df.rolling(3).sum()\n",
        "df.head(10)"
      ],
      "execution_count": 22,
      "outputs": [
        {
          "output_type": "execute_result",
          "data": {
            "text/html": [
              "<div>\n",
              "<style scoped>\n",
              "    .dataframe tbody tr th:only-of-type {\n",
              "        vertical-align: middle;\n",
              "    }\n",
              "\n",
              "    .dataframe tbody tr th {\n",
              "        vertical-align: top;\n",
              "    }\n",
              "\n",
              "    .dataframe thead th {\n",
              "        text-align: right;\n",
              "    }\n",
              "</style>\n",
              "<table border=\"1\" class=\"dataframe\">\n",
              "  <thead>\n",
              "    <tr style=\"text-align: right;\">\n",
              "      <th></th>\n",
              "      <th>data</th>\n",
              "      <th>rolling_sum</th>\n",
              "    </tr>\n",
              "    <tr>\n",
              "      <th>datetime</th>\n",
              "      <th></th>\n",
              "      <th></th>\n",
              "    </tr>\n",
              "  </thead>\n",
              "  <tbody>\n",
              "    <tr>\n",
              "      <th>2018-01-01 00:00:00</th>\n",
              "      <td>47</td>\n",
              "      <td>NaN</td>\n",
              "    </tr>\n",
              "    <tr>\n",
              "      <th>2018-01-01 01:00:00</th>\n",
              "      <td>83</td>\n",
              "      <td>NaN</td>\n",
              "    </tr>\n",
              "    <tr>\n",
              "      <th>2018-01-01 02:00:00</th>\n",
              "      <td>38</td>\n",
              "      <td>168.0</td>\n",
              "    </tr>\n",
              "    <tr>\n",
              "      <th>2018-01-01 03:00:00</th>\n",
              "      <td>53</td>\n",
              "      <td>174.0</td>\n",
              "    </tr>\n",
              "    <tr>\n",
              "      <th>2018-01-01 04:00:00</th>\n",
              "      <td>76</td>\n",
              "      <td>167.0</td>\n",
              "    </tr>\n",
              "    <tr>\n",
              "      <th>2018-01-01 05:00:00</th>\n",
              "      <td>24</td>\n",
              "      <td>153.0</td>\n",
              "    </tr>\n",
              "    <tr>\n",
              "      <th>2018-01-01 06:00:00</th>\n",
              "      <td>15</td>\n",
              "      <td>115.0</td>\n",
              "    </tr>\n",
              "    <tr>\n",
              "      <th>2018-01-01 07:00:00</th>\n",
              "      <td>49</td>\n",
              "      <td>88.0</td>\n",
              "    </tr>\n",
              "    <tr>\n",
              "      <th>2018-01-01 08:00:00</th>\n",
              "      <td>23</td>\n",
              "      <td>87.0</td>\n",
              "    </tr>\n",
              "    <tr>\n",
              "      <th>2018-01-01 09:00:00</th>\n",
              "      <td>26</td>\n",
              "      <td>98.0</td>\n",
              "    </tr>\n",
              "  </tbody>\n",
              "</table>\n",
              "</div>"
            ],
            "text/plain": [
              "                     data  rolling_sum\n",
              "datetime                              \n",
              "2018-01-01 00:00:00    47          NaN\n",
              "2018-01-01 01:00:00    83          NaN\n",
              "2018-01-01 02:00:00    38        168.0\n",
              "2018-01-01 03:00:00    53        174.0\n",
              "2018-01-01 04:00:00    76        167.0\n",
              "2018-01-01 05:00:00    24        153.0\n",
              "2018-01-01 06:00:00    15        115.0\n",
              "2018-01-01 07:00:00    49         88.0\n",
              "2018-01-01 08:00:00    23         87.0\n",
              "2018-01-01 09:00:00    26         98.0"
            ]
          },
          "metadata": {
            "tags": []
          },
          "execution_count": 22
        }
      ]
    },
    {
      "cell_type": "code",
      "metadata": {
        "id": "eZoSwkaKRGYn",
        "outputId": "06ccb557-4a8e-4246-84a0-aa69e2ffd551",
        "colab": {
          "base_uri": "https://localhost:8080/",
          "height": 235
        }
      },
      "source": [
        "df[\"rolling_sum_backfilled\"] = df[\"rolling_sum\"].fillna(method=\"backfill\")\n",
        "df.head()"
      ],
      "execution_count": 23,
      "outputs": [
        {
          "output_type": "execute_result",
          "data": {
            "text/html": [
              "<div>\n",
              "<style scoped>\n",
              "    .dataframe tbody tr th:only-of-type {\n",
              "        vertical-align: middle;\n",
              "    }\n",
              "\n",
              "    .dataframe tbody tr th {\n",
              "        vertical-align: top;\n",
              "    }\n",
              "\n",
              "    .dataframe thead th {\n",
              "        text-align: right;\n",
              "    }\n",
              "</style>\n",
              "<table border=\"1\" class=\"dataframe\">\n",
              "  <thead>\n",
              "    <tr style=\"text-align: right;\">\n",
              "      <th></th>\n",
              "      <th>data</th>\n",
              "      <th>rolling_sum</th>\n",
              "      <th>rolling_sum_backfilled</th>\n",
              "    </tr>\n",
              "    <tr>\n",
              "      <th>datetime</th>\n",
              "      <th></th>\n",
              "      <th></th>\n",
              "      <th></th>\n",
              "    </tr>\n",
              "  </thead>\n",
              "  <tbody>\n",
              "    <tr>\n",
              "      <th>2018-01-01 00:00:00</th>\n",
              "      <td>47</td>\n",
              "      <td>NaN</td>\n",
              "      <td>168.0</td>\n",
              "    </tr>\n",
              "    <tr>\n",
              "      <th>2018-01-01 01:00:00</th>\n",
              "      <td>83</td>\n",
              "      <td>NaN</td>\n",
              "      <td>168.0</td>\n",
              "    </tr>\n",
              "    <tr>\n",
              "      <th>2018-01-01 02:00:00</th>\n",
              "      <td>38</td>\n",
              "      <td>168.0</td>\n",
              "      <td>168.0</td>\n",
              "    </tr>\n",
              "    <tr>\n",
              "      <th>2018-01-01 03:00:00</th>\n",
              "      <td>53</td>\n",
              "      <td>174.0</td>\n",
              "      <td>174.0</td>\n",
              "    </tr>\n",
              "    <tr>\n",
              "      <th>2018-01-01 04:00:00</th>\n",
              "      <td>76</td>\n",
              "      <td>167.0</td>\n",
              "      <td>167.0</td>\n",
              "    </tr>\n",
              "  </tbody>\n",
              "</table>\n",
              "</div>"
            ],
            "text/plain": [
              "                     data  rolling_sum  rolling_sum_backfilled\n",
              "datetime                                                      \n",
              "2018-01-01 00:00:00    47          NaN                   168.0\n",
              "2018-01-01 01:00:00    83          NaN                   168.0\n",
              "2018-01-01 02:00:00    38        168.0                   168.0\n",
              "2018-01-01 03:00:00    53        174.0                   174.0\n",
              "2018-01-01 04:00:00    76        167.0                   167.0"
            ]
          },
          "metadata": {
            "tags": []
          },
          "execution_count": 23
        }
      ]
    },
    {
      "cell_type": "code",
      "metadata": {
        "id": "2KcHy2uNRr_n",
        "outputId": "47d3dea8-c3fd-4053-9e1b-a61bcba57ca2",
        "colab": {
          "base_uri": "https://localhost:8080/",
          "height": 34
        }
      },
      "source": [
        "epoch_t = 1529272655\n",
        "real_t = pd.to_datetime(epoch_t, unit='s')\n",
        "real_t"
      ],
      "execution_count": 24,
      "outputs": [
        {
          "output_type": "execute_result",
          "data": {
            "text/plain": [
              "Timestamp('2018-06-17 21:57:35')"
            ]
          },
          "metadata": {
            "tags": []
          },
          "execution_count": 24
        }
      ]
    },
    {
      "cell_type": "code",
      "metadata": {
        "id": "4ZSdZeHySK-z",
        "outputId": "8e592ebd-2f63-457a-9008-5a5653d1360f",
        "colab": {
          "base_uri": "https://localhost:8080/",
          "height": 34
        }
      },
      "source": [
        "real_t.tz_localize('UTC').tz_convert(\"US/Pacific\")"
      ],
      "execution_count": 26,
      "outputs": [
        {
          "output_type": "execute_result",
          "data": {
            "text/plain": [
              "Timestamp('2018-06-17 14:57:35-0700', tz='US/Pacific')"
            ]
          },
          "metadata": {
            "tags": []
          },
          "execution_count": 26
        }
      ]
    },
    {
      "cell_type": "code",
      "metadata": {
        "id": "kEED4a5mSc-6"
      },
      "source": [
        ""
      ],
      "execution_count": null,
      "outputs": []
    }
  ]
}